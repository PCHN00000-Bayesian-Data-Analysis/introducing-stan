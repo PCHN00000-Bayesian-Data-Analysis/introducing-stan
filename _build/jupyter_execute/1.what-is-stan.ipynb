{
 "cells": [
  {
   "cell_type": "code",
   "execution_count": 1,
   "id": "4e8a2da4",
   "metadata": {
    "vscode": {
     "languageId": "r"
    }
   },
   "outputs": [],
   "source": [
    "options(repr.plot.width=7, repr.plot.height=7, repr.plot.resolution=120)"
   ]
  },
  {
   "cell_type": "markdown",
   "id": "8a6b3fd6-1753-45e7-a920-fccf68cbdcac",
   "metadata": {},
   "source": [
    "# What is Stan?\n",
    "...."
   ]
  },
  {
   "cell_type": "markdown",
   "id": "f9f8bf2c",
   "metadata": {},
   "source": [
    "## The Stan Workflow"
   ]
  },
  {
   "cell_type": "markdown",
   "id": "ba90592b",
   "metadata": {},
   "source": [
    "## Stan Interfaces\n",
    "\n",
    "### `CmdStanR`\n",
    "\n",
    "### `CmdStanPy`\n",
    "\n",
    "### Interfaces on this Unit\n",
    "\n",
    "During this unit, we will show code examples for both `CmdStanR` and `CmdStanPy`. This will be shown in a tabbed-group, as shown below"
   ]
  },
  {
   "cell_type": "markdown",
   "id": "a8e56f2f",
   "metadata": {},
   "source": [
    "````{tab-set-code}\n",
    "\n",
    "```{code-block} R\n",
    "data        <- read.csv(\"input/data-shopping-1.csv\")\n",
    "data$Income <- data$Income/100\n",
    "N           <- nrow(data)\n",
    "```\n",
    "\n",
    "```{code-block} python\n",
    "import cmdstanpy as Stan\n",
    "\n",
    "model = Stan.CmdStanModel(stan_file='bernoulli.stan')\n",
    "fit   = model.sample(data='bernoulli.data.json')\n",
    "\n",
    "fit.summary()\n",
    "```\n",
    "\n",
    "````"
   ]
  },
  {
   "cell_type": "markdown",
   "id": "c2a3f190",
   "metadata": {},
   "source": [
    "For simplicity, all output within these lessons will be from `cmdstanr`, but you can try either interface using Posit Cloud. For the workshops, we will have both RStudio and Jupyter Notebooks with Stan installed. Duplicating any of these will create projects with Stan ready to use in whichever language you like."
   ]
  },
  {
   "cell_type": "markdown",
   "id": "9237c23c",
   "metadata": {},
   "source": []
  }
 ],
 "metadata": {
  "kernelspec": {
   "display_name": "R",
   "language": "R",
   "name": "ir"
  },
  "language_info": {
   "codemirror_mode": "r",
   "file_extension": ".r",
   "mimetype": "text/x-r-source",
   "name": "R",
   "pygments_lexer": "r",
   "version": "4.5.0"
  }
 },
 "nbformat": 4,
 "nbformat_minor": 5
}