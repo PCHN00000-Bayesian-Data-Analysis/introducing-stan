{
 "cells": [
  {
   "cell_type": "code",
   "execution_count": 1,
   "id": "4e8a2da4",
   "metadata": {
    "vscode": {
     "languageId": "r"
    }
   },
   "outputs": [],
   "source": [
    "options(repr.plot.width=7, repr.plot.height=7, repr.plot.resolution=120)"
   ]
  },
  {
   "cell_type": "markdown",
   "id": "8a6b3fd6-1753-45e7-a920-fccf68cbdcac",
   "metadata": {},
   "source": [
    "# What is Stan?\n",
    "...."
   ]
  },
  {
   "cell_type": "markdown",
   "id": "ba90592b",
   "metadata": {},
   "source": [
    "## Stan Interfaces\n",
    "\n",
    "During this unit, we will show code examples for both `cmdstanr` and `cmdstanpython`"
   ]
  },
  {
   "cell_type": "markdown",
   "id": "a8e56f2f",
   "metadata": {},
   "source": [
    "````{tab-set-code}\n",
    "\n",
    "```{code-block} R\n",
    "d <- read.csv(file=\"input/data-shopping-1.csv\")\n",
    "d$Income <- d$Income/100\n",
    "N <- nrow(d)\n",
    "```\n",
    "\n",
    "```{code-block} python\n",
    "d = pandas.read_csv(\"input/data-shopping-1.csv\")\n",
    "d.Income /= 100\n",
    "```\n",
    "\n",
    "````"
   ]
  },
  {
   "cell_type": "markdown",
   "id": "9237c23c",
   "metadata": {},
   "source": []
  }
 ],
 "metadata": {
  "kernelspec": {
   "display_name": "R",
   "language": "R",
   "name": "ir"
  },
  "language_info": {
   "codemirror_mode": "r",
   "file_extension": ".r",
   "mimetype": "text/x-r-source",
   "name": "R",
   "pygments_lexer": "r",
   "version": "4.5.0"
  }
 },
 "nbformat": 4,
 "nbformat_minor": 5
}
